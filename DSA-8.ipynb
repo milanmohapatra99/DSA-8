{
 "cells": [
  {
   "cell_type": "markdown",
   "id": "f0f95b21",
   "metadata": {},
   "source": [
    "Q1. Given two strings s1 and s2, return the lowest ASCII sum of deleted characters to make two strings equal."
   ]
  },
  {
   "cell_type": "code",
   "execution_count": 1,
   "id": "f88257d2",
   "metadata": {},
   "outputs": [
    {
     "name": "stdout",
     "output_type": "stream",
     "text": [
      "231\n"
     ]
    }
   ],
   "source": [
    "def ascii_delete_sum(s1, s2):\n",
    "    m, n = len(s1), len(s2)\n",
    "    \n",
    "    # Create a memoization table to store the lowest ASCII sum\n",
    "    # of deleted characters for substrings of s1 and s2\n",
    "    dp = [[0] * (n+1) for _ in range(m+1)]\n",
    "    \n",
    "    # Fill in the memoization table\n",
    "    for i in range(1, m+1):\n",
    "        dp[i][0] = dp[i-1][0] + ord(s1[i-1])\n",
    "    for j in range(1, n+1):\n",
    "        dp[0][j] = dp[0][j-1] + ord(s2[j-1])\n",
    "    for i in range(1, m+1):\n",
    "        for j in range(1, n+1):\n",
    "            if s1[i-1] == s2[j-1]:\n",
    "                dp[i][j] = dp[i-1][j-1]\n",
    "            else:\n",
    "                dp[i][j] = min(dp[i-1][j] + ord(s1[i-1]), dp[i][j-1] + ord(s2[j-1]))\n",
    "    \n",
    "    return dp[m][n]\n",
    "s1 = \"sea\"\n",
    "s2 = \"eat\"\n",
    "result = ascii_delete_sum(s1, s2)\n",
    "print(result)\n"
   ]
  },
  {
   "cell_type": "markdown",
   "id": "6673ac0d",
   "metadata": {},
   "source": [
    "Q2. Given a string s containing only three types of characters: '(', ')' and '*', return true *if* s *is **valid***.\n",
    "\n",
    "The following rules define a **valid** string:\n",
    "\n",
    "- Any left parenthesis '(' must have a corresponding right parenthesis ')'.\n",
    "- Any right parenthesis ')' must have a corresponding left parenthesis '('.\n",
    "- Left parenthesis '(' must go before the corresponding right parenthesis ')'.\n",
    "- '*' could be treated as a single right parenthesis ')' or a single left parenthesis '(' or an empty string \"\"."
   ]
  },
  {
   "cell_type": "code",
   "execution_count": 2,
   "id": "4351db06",
   "metadata": {},
   "outputs": [
    {
     "name": "stdout",
     "output_type": "stream",
     "text": [
      "True\n"
     ]
    }
   ],
   "source": [
    "def is_valid_string(s):\n",
    "    stack = []\n",
    "    asterisks = []\n",
    "\n",
    "    for char in s:\n",
    "        if char == '(':\n",
    "            stack.append(char)\n",
    "        elif char == ')':\n",
    "            if stack:\n",
    "                stack.pop()\n",
    "            elif asterisks:\n",
    "                asterisks.pop()\n",
    "            else:\n",
    "                return False\n",
    "        elif char == '*':\n",
    "            asterisks.append(char)\n",
    "\n",
    "    while stack and asterisks:\n",
    "        if stack[-1] < asterisks[-1]:\n",
    "            stack.pop()\n",
    "            asterisks.pop()\n",
    "        else:\n",
    "            return False\n",
    "\n",
    "    return len(stack) == 0\n",
    "s = \"((*)\"\n",
    "result = is_valid_string(s)\n",
    "print(result)\n"
   ]
  },
  {
   "cell_type": "markdown",
   "id": "352131ee",
   "metadata": {},
   "source": [
    "Q3. Given two strings word1 and word2, return *the minimum number of **steps** required to make* word1 *and* word2 *the same*.\n",
    "\n",
    "In one **step**, you can delete exactly one character in either string."
   ]
  },
  {
   "cell_type": "code",
   "execution_count": 3,
   "id": "92e66ad4",
   "metadata": {},
   "outputs": [
    {
     "name": "stdout",
     "output_type": "stream",
     "text": [
      "2\n"
     ]
    }
   ],
   "source": [
    "def min_steps_to_same(word1, word2):\n",
    "    m, n = len(word1), len(word2)\n",
    "    \n",
    "    # Create a memoization table to store the minimum number of steps\n",
    "    # required to make substrings of word1 and word2 the same\n",
    "    dp = [[0] * (n+1) for _ in range(m+1)]\n",
    "    \n",
    "    # Fill in the memoization table\n",
    "    for i in range(1, m+1):\n",
    "        dp[i][0] = dp[i-1][0] + 1\n",
    "    for j in range(1, n+1):\n",
    "        dp[0][j] = dp[0][j-1] + 1\n",
    "    for i in range(1, m+1):\n",
    "        for j in range(1, n+1):\n",
    "            if word1[i-1] == word2[j-1]:\n",
    "                dp[i][j] = dp[i-1][j-1]\n",
    "            else:\n",
    "                dp[i][j] = min(dp[i-1][j] + 1, dp[i][j-1] + 1)\n",
    "    \n",
    "    return dp[m][n]\n",
    "word1 = \"sea\"\n",
    "word2 = \"eat\"\n",
    "result = min_steps_to_same(word1, word2)\n",
    "print(result)\n"
   ]
  },
  {
   "cell_type": "markdown",
   "id": "3103d8f1",
   "metadata": {},
   "source": [
    "Q4. You need to construct a binary tree from a string consisting of parenthesis and integers.\n",
    "\n",
    "The whole input represents a binary tree. It contains an integer followed by zero, one or two pairs of parenthesis. The integer represents the root's value and a pair of parenthesis contains a child binary tree with the same structure.\n",
    "You always start to construct the **left** child node of the parent first if it exists."
   ]
  },
  {
   "cell_type": "code",
   "execution_count": 4,
   "id": "a6340788",
   "metadata": {},
   "outputs": [],
   "source": [
    "class TreeNode:\n",
    "    def __init__(self, value=0, left=None, right=None):\n",
    "        self.val = value\n",
    "        self.left = left\n",
    "        self.right = right\n",
    "\n",
    "def construct_binary_tree(s):\n",
    "    if not s:\n",
    "        return None\n",
    "\n",
    "    # Find the first occurrence of '(' to split the string into root value and children substrings\n",
    "    idx = s.find('(')\n",
    "    if idx == -1:\n",
    "        # No children, the entire string represents the root value\n",
    "        return TreeNode(int(s))\n",
    "\n",
    "    # Extract the root value from the string\n",
    "    root_val = int(s[:idx])\n",
    "\n",
    "    # Find the index of the matching ')' for the first '('\n",
    "    count = 0\n",
    "    for i in range(idx, len(s)):\n",
    "        if s[i] == '(':\n",
    "            count += 1\n",
    "        elif s[i] == ')':\n",
    "            count -= 1\n",
    "            if count == 0:\n",
    "                break\n",
    "\n",
    "    # Recursively construct the left and right subtrees\n",
    "    left_subtree = construct_binary_tree(s[idx+1:i])\n",
    "    right_subtree = construct_binary_tree(s[i+2:-1])\n",
    "\n",
    "    # Create the root node with the constructed subtrees\n",
    "    root = TreeNode(root_val, left_subtree, right_subtree)\n",
    "    return root\n",
    "s = \"4(2(3)(1))(6(5))\"\n",
    "root = construct_binary_tree(s)\n"
   ]
  },
  {
   "cell_type": "markdown",
   "id": "1cccdae5",
   "metadata": {},
   "source": [
    "Q5. Given an array of characters chars, compress it using the following algorithm:\n",
    "\n",
    "Begin with an empty string s. For each group of **consecutive repeating characters** in chars:\n",
    "\n",
    "- If the group's length is 1, append the character to s.\n",
    "- Otherwise, append the character followed by the group's length.\n",
    "\n",
    "The compressed string s **should not be returned separately**, but instead, be stored **in the input character array chars**. Note that group lengths that are 10 or longer will be split into multiple characters in chars.\n",
    "\n",
    "After you are done **modifying the input array,** return *the new length of the array*.\n",
    "\n",
    "You must write an algorithm that uses only constant extra space."
   ]
  },
  {
   "cell_type": "code",
   "execution_count": 5,
   "id": "85334bc2",
   "metadata": {},
   "outputs": [
    {
     "name": "stdout",
     "output_type": "stream",
     "text": [
      "6\n",
      "['a', '2', 'b', '2', 'c', '3']\n"
     ]
    }
   ],
   "source": [
    "def compress(chars):\n",
    "    # Initialize pointers and counter\n",
    "    write_index = 0\n",
    "    read_index = 0\n",
    "    count = 0\n",
    "\n",
    "    # Iterate through the array\n",
    "    while read_index < len(chars):\n",
    "        current_char = chars[read_index]\n",
    "        count = 1\n",
    "\n",
    "        # Count the number of consecutive occurrences\n",
    "        while read_index + 1 < len(chars) and chars[read_index + 1] == current_char:\n",
    "            read_index += 1\n",
    "            count += 1\n",
    "\n",
    "        # Write the compressed character to the array\n",
    "        chars[write_index] = current_char\n",
    "        write_index += 1\n",
    "\n",
    "        # Write the count as a string if it is greater than 1\n",
    "        if count > 1:\n",
    "            count_str = str(count)\n",
    "            for digit in count_str:\n",
    "                chars[write_index] = digit\n",
    "                write_index += 1\n",
    "\n",
    "        # Move to the next character group\n",
    "        read_index += 1\n",
    "\n",
    "    # Return the new length of the array\n",
    "    return write_index\n",
    "chars = ['a', 'a', 'b', 'b', 'c', 'c', 'c']\n",
    "new_length = compress(chars)\n",
    "print(new_length)\n",
    "print(chars[:new_length])\n"
   ]
  },
  {
   "cell_type": "markdown",
   "id": "c8b6254b",
   "metadata": {},
   "source": [
    "Q6. Given two strings s and p, return *an array of all the start indices of* p*'s anagrams in* s. You may return the answer in **any order**.\n",
    "\n",
    "An **Anagram** is a word or phrase formed by rearranging the letters of a different word or phrase, typically using all the original letters exactly once."
   ]
  },
  {
   "cell_type": "code",
   "execution_count": 1,
   "id": "1605024e",
   "metadata": {},
   "outputs": [
    {
     "name": "stdout",
     "output_type": "stream",
     "text": [
      "[0, 6]\n"
     ]
    }
   ],
   "source": [
    "from collections import Counter\n",
    "\n",
    "def find_anagrams(s, p):\n",
    "    result = []\n",
    "    p_counter = Counter(p)\n",
    "    s_counter = Counter(s[:len(p)])\n",
    "\n",
    "    # Check the first window\n",
    "    if s_counter == p_counter:\n",
    "        result.append(0)\n",
    "\n",
    "    # Slide the window over the string\n",
    "    for i in range(1, len(s) - len(p) + 1):\n",
    "        # Remove the leftmost character from the window\n",
    "        if s_counter[s[i - 1]] == 1:\n",
    "            del s_counter[s[i - 1]]\n",
    "        else:\n",
    "            s_counter[s[i - 1]] -= 1\n",
    "\n",
    "        # Add the rightmost character to the window\n",
    "        s_counter[s[i + len(p) - 1]] += 1\n",
    "\n",
    "        # Check if the window is an anagram of p\n",
    "        if s_counter == p_counter:\n",
    "            result.append(i)\n",
    "\n",
    "    return result\n",
    "s = \"cbaebabacd\"\n",
    "p = \"abc\"\n",
    "result = find_anagrams(s, p)\n",
    "print(result)\n"
   ]
  },
  {
   "cell_type": "markdown",
   "id": "cb670fa3",
   "metadata": {},
   "source": [
    "Q7. Given an encoded string, return its decoded string.\n",
    "\n",
    "The encoding rule is: k[encoded_string], where the encoded_string inside the square brackets is being repeated exactly k times. Note that k is guaranteed to be a positive integer.\n",
    "\n",
    "You may assume that the input string is always valid; there are no extra white spaces, square brackets are well-formed, etc. Furthermore, you may assume that the original data does not contain any digits and that digits are only for those repeat numbers, k. For example, there will not be input like 3a or 2[4].\n",
    "\n",
    "The test cases are generated so that the length of the output will never exceed 105."
   ]
  },
  {
   "cell_type": "code",
   "execution_count": 2,
   "id": "f37dec4f",
   "metadata": {},
   "outputs": [
    {
     "name": "stdout",
     "output_type": "stream",
     "text": [
      "accaccacc\n"
     ]
    }
   ],
   "source": [
    "def decode_string(s):\n",
    "    stack = []\n",
    "    \n",
    "    for char in s:\n",
    "        if char != ']':\n",
    "            stack.append(char)\n",
    "        else:\n",
    "            # Retrieve the encoded string\n",
    "            encoded_str = ''\n",
    "            while stack[-1] != '[':\n",
    "                encoded_str = stack.pop() + encoded_str\n",
    "           \n",
    "            # Pop the '[' character\n",
    "            stack.pop()\n",
    "            \n",
    "            # Retrieve the repetition count\n",
    "            count_str = ''\n",
    "            while stack and stack[-1].isdigit():\n",
    "                count_str = stack.pop() + count_str\n",
    "           \n",
    "            # Convert count_str to integer\n",
    "            count = int(count_str)\n",
    "            \n",
    "            # Decode and push the repeated string\n",
    "            repeated_str = encoded_str * count\n",
    "            stack.extend(list(repeated_str))\n",
    "    \n",
    "    # Return the decoded string\n",
    "    return ''.join(stack)\n",
    "encoded_string = \"3[a2[c]]\"\n",
    "decoded_string = decode_string(encoded_string)\n",
    "print(decoded_string)\n"
   ]
  },
  {
   "cell_type": "markdown",
   "id": "cf9d9a52",
   "metadata": {},
   "source": [
    "Q8. Given two strings s and goal, return true *if you can swap two letters in* s *so the result is equal to* goal*, otherwise, return* false*.*\n",
    "\n",
    "Swapping letters is defined as taking two indices i and j (0-indexed) such that i != j and swapping the characters at s[i] and s[j].\n",
    "\n",
    "- For example, swapping at indices 0 and 2 in \"abcd\" results in \"cbad\"."
   ]
  },
  {
   "cell_type": "code",
   "execution_count": 3,
   "id": "05d82fe2",
   "metadata": {},
   "outputs": [
    {
     "name": "stdout",
     "output_type": "stream",
     "text": [
      "True\n"
     ]
    }
   ],
   "source": [
    "def buddy_strings(s, goal):\n",
    "    if len(s) != len(goal):\n",
    "        return False\n",
    "\n",
    "    if s == goal:\n",
    "        # Check if there are duplicate characters in s\n",
    "        seen = set()\n",
    "        for char in s:\n",
    "            if char in seen:\n",
    "                return True\n",
    "            seen.add(char)\n",
    "        return False\n",
    "\n",
    "    indices = []\n",
    "    for i in range(len(s)):\n",
    "        if s[i] != goal[i]:\n",
    "            indices.append(i)\n",
    "\n",
    "    if len(indices) != 2:\n",
    "        return False\n",
    "\n",
    "    i, j = indices\n",
    "    s = list(s)\n",
    "    s[i], s[j] = s[j], s[i]\n",
    "    return ''.join(s) == goal\n",
    "s = \"abcd\"\n",
    "goal = \"cbad\"\n",
    "result = buddy_strings(s, goal)\n",
    "print(result)\n"
   ]
  },
  {
   "cell_type": "code",
   "execution_count": null,
   "id": "0264e5cb",
   "metadata": {},
   "outputs": [],
   "source": []
  }
 ],
 "metadata": {
  "kernelspec": {
   "display_name": "Python 3 (ipykernel)",
   "language": "python",
   "name": "python3"
  },
  "language_info": {
   "codemirror_mode": {
    "name": "ipython",
    "version": 3
   },
   "file_extension": ".py",
   "mimetype": "text/x-python",
   "name": "python",
   "nbconvert_exporter": "python",
   "pygments_lexer": "ipython3",
   "version": "3.10.9"
  }
 },
 "nbformat": 4,
 "nbformat_minor": 5
}
